{
 "cells": [
  {
   "cell_type": "code",
   "execution_count": 23,
   "metadata": {},
   "outputs": [],
   "source": [
    "import pandas as pd\n",
    "import matplotlib.pyplot as plt\n",
    "import numpy as np\n",
    "import os\n",
    "from datetime import datetime"
   ]
  },
  {
   "cell_type": "code",
   "execution_count": 6,
   "metadata": {},
   "outputs": [
    {
     "data": {
      "text/plain": [
       "['32-10-2', '2-10-2', '4-10-2', '8-10-2']"
      ]
     },
     "execution_count": 6,
     "metadata": {},
     "output_type": "execute_result"
    }
   ],
   "source": [
    "# List folders inside the folder\n",
    "def list_folders(folder):\n",
    "    folders = [f for f in os.listdir(folder) if os.path.isdir(os.path.join(folder, f))]\n",
    "    return folders\n",
    "\n",
    "\n",
    "# List files inside the folder \n",
    "def list_files(folder):\n",
    "    files = [f for f in os.listdir(folder) if os.path.isfile(os.path.join(folder, f))]\n",
    "    return files\n",
    "\n",
    "list_files('Test1')\n",
    "\n",
    "list_folders('Test1')"
   ]
  },
  {
   "cell_type": "code",
   "execution_count": 64,
   "metadata": {},
   "outputs": [],
   "source": [
    "target_folders = [\"Test1\", \"Test2\", \"Test3\"]\n",
    "\n",
    "target_files = []\n",
    "\n",
    "for folder in target_folders:\n",
    "    scenarios = list_folders(folder)\n",
    "    for scenario in scenarios:\n",
    "        path = folder + \"/\" + scenario\n",
    "        files = list_files(folder + \"/\" + scenario)\n",
    "        files = [path + \"/\" + f for f in files]\n",
    "    \n",
    "        # remove the file that is not resultado.txt\n",
    "        files = [f for f in files if f.endswith(\"resultado.txt\")]\n",
    "        target_files.append(files)"
   ]
  },
  {
   "cell_type": "code",
   "execution_count": 77,
   "metadata": {},
   "outputs": [
    {
     "name": "stdout",
     "output_type": "stream",
     "text": [
      "Test1/32-10-2/resultado.txt 639.206\n",
      "Test1/2-10-2/resultado.txt 449.751\n",
      "Test1/4-10-2/resultado.txt 78.147\n",
      "Test1/8-10-2/resultado.txt 158.286\n",
      "Test2/32-5-1/resultado.txt 159.433\n",
      "Test2/2-5-1/resultado.txt 9.023\n",
      "Test2/4-5-1/resultado.txt 19.05\n",
      "Test2/64-5-1/resultado.txt 319.966\n",
      "Test2/8-5-1/resultado.txt 39.105\n",
      "Test2/16-5-1/resultado.txt 79.213\n",
      "Test3/64-3-0/resultado.txt 0.114\n",
      "Test3/8-3-0/resultado.txt 0.021\n",
      "Test3/128-3-0/resultado.txt 0.261\n",
      "Test3/16-3-0/resultado.txt 0.026\n",
      "Test3/32-3-0/resultado.txt 0.072\n",
      "Test3/2-3-0/resultado.txt 0.006\n",
      "Test3/4-3-0/resultado.txt 0.007\n"
     ]
    }
   ],
   "source": [
    "# loop through all files and print all lines\n",
    "for file in target_files:\n",
    "    time_vector     = []\n",
    "    date_format_str = '%H:%M:%S.%f'\n",
    "    folder_path     = file[0].split(\"/\")[0]\n",
    "    n               = file[0].split(\"/\")[1].split(\"-\")[0]\n",
    "\n",
    "    with open(file[0]) as f:\n",
    "        first_line = f.readline()\n",
    "        time_stamp = first_line.split()[-1]\n",
    "        start      = datetime.strptime(time_stamp, date_format_str)\n",
    "\n",
    "        last_line  = f.readlines()[-1]\n",
    "        time_stamp = last_line.split()[-1]\n",
    "        end        = datetime.strptime(time_stamp, date_format_str)\n",
    "\n",
    "        diff = end - start\n",
    "        diff = diff.total_seconds()\n",
    "        \n",
    "        # save diff in csv file\n",
    "        with open(f'{folder_path}/time_diff.csv', 'a') as target:\n",
    "            target.write(f\"{n},{diff}\\n\")\n",
    "\n",
    "        print(file[0], diff)"
   ]
  },
  {
   "cell_type": "code",
   "execution_count": 92,
   "metadata": {},
   "outputs": [
    {
     "data": {
      "image/png": "[encoded data removed]",
      "text/plain": [
       "<Figure size 432x288 with 1 Axes>"
      ]
     },
     "metadata": {
      "needs_background": "light"
     },
     "output_type": "display_data"
    },
    {
     "data": {
      "image/png": "[encoded data removed]",
      "text/plain": [
       "<Figure size 432x288 with 1 Axes>"
      ]
     },
     "metadata": {
      "needs_background": "light"
     },
     "output_type": "display_data"
    },
    {
     "data": {
      "image/png": "[encoded data removed]",
      "text/plain": [
       "<Figure size 432x288 with 1 Axes>"
      ]
     },
     "metadata": {
      "needs_background": "light"
     },
     "output_type": "display_data"
    }
   ],
   "source": [
    "# Read the csv\n",
    "for folder in target_folders:\n",
    "    data = pd.read_csv(f'{folder}/time_diff.csv', names=['n', 't'])\n",
    "    data = data.sort_values(by=['n'])\n",
    "\n",
    "    keys   = data['n']\n",
    "    values =  data['t']\n",
    "\n",
    "    fig, ax = plt.subplots()\n",
    "\n",
    "    # create the xticks locations\n",
    "    x = range(len(keys))\n",
    "\n",
    "    ax.bar(x, values, 0.8, color='g', align='center')\n",
    "\n",
    "    # set the ticks and labels\n",
    "    ax.set_xticks(x)\n",
    "    _ = ax.set_xticklabels(keys)\n",
    "\n",
    "    # set the xlabel and ylabel\n",
    "    ax.set_xlabel('n')\n",
    "    ax.set_ylabel('t (s)')\n",
    "\n",
    "    # set the title\n",
    "    ax.set_title(f'{folder}')\n"
   ]
  }
 ],
 "metadata": {
  "kernelspec": {
   "display_name": "Python 3.10.4 ('data-science')",
   "language": "python",
   "name": "python3"
  },
  "language_info": {
   "codemirror_mode": {
    "name": "ipython",
    "version": 3
   },
   "file_extension": ".py",
   "mimetype": "text/x-python",
   "name": "python",
   "nbconvert_exporter": "python",
   "pygments_lexer": "ipython3",
   "version": "3.10.4"
  },
  "orig_nbformat": 4,
  "vscode": {
   "interpreter": {
    "hash": "6354a649cc0b693324a53dd55981932d92d4f5cef86098528e8bd6d383178d5c"
   }
  }
 },
 "nbformat": 4,
 "nbformat_minor": 2
}
